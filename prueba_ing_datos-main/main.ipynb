{
 "cells": [
  {
   "cell_type": "markdown",
   "metadata": {},
   "source": [
    "# "
   ]
  },
  {
   "cell_type": "markdown",
   "metadata": {},
   "source": [
    "# PART 1: SQL\n",
    "\n",
    "There are two tables in the included database\n",
    "\n",
    "1. train_table\n",
    "2. test_table\n",
    "\n",
    "\n",
    "IMPORTANT: No other libraries are allowed to solve this tests only SQL Queries allowed\n",
    "\n",
    "* pandas methods are not is not allowed\n",
    "* sqlalchemy is not allowed"
   ]
  },
  {
   "cell_type": "code",
   "execution_count": null,
   "metadata": {},
   "outputs": [],
   "source": [
    "# only library allowed do not modify\n",
    "import pandas as pd\n",
    "from src.sql import execute_query"
   ]
  },
  {
   "cell_type": "code",
   "execution_count": null,
   "metadata": {},
   "outputs": [],
   "source": [
    "#example query inside docstring\n",
    "execute_query(\"\"\"\n",
    "        SELECT * \n",
    "        FROM train_table\n",
    "\"\"\")"
   ]
  },
  {
   "cell_type": "code",
   "execution_count": null,
   "metadata": {},
   "outputs": [],
   "source": [
    "#example query inside docstring\n",
    "execute_query(\"\"\"\n",
    "        SELECT * \n",
    "        FROM test_table\n",
    "\"\"\")"
   ]
  },
  {
   "cell_type": "markdown",
   "metadata": {},
   "source": [
    "## question 1: Basic SQL\n",
    "Write a SQL statement from table <i>train_table</i> to obtain the top 10 <i>locations</i> people twit from (in descending order)"
   ]
  },
  {
   "cell_type": "raw",
   "metadata": {},
   "source": [
    "EXAMPLE SOLUTION:\n",
    "\n",
    "   UserName          Location  count\n",
    "0     11756       Doha, Qatar     10\n",
    "..\n",
    "8       450    The Colony, TX      9\n",
    "9     14693  Brighton Lass ??      8"
   ]
  },
  {
   "cell_type": "code",
   "execution_count": null,
   "metadata": {},
   "outputs": [],
   "source": [
    "# write query inside docstring\n",
    "query_1 = \"\"\"\n",
    "\n",
    "\n",
    "\"\"\""
   ]
  },
  {
   "cell_type": "code",
   "execution_count": null,
   "metadata": {
    "scrolled": true
   },
   "outputs": [],
   "source": [
    "result_1 = execute_query(query_1)"
   ]
  },
  {
   "cell_type": "code",
   "execution_count": null,
   "metadata": {},
   "outputs": [],
   "source": [
    "result_1"
   ]
  },
  {
   "cell_type": "markdown",
   "metadata": {},
   "source": [
    "## Question 2: Intermediate SQL\n"
   ]
  },
  {
   "cell_type": "raw",
   "metadata": {},
   "source": [
    "You are tasked to build a dataset that contains the count of Sentiment values as columns for every UserName.\n",
    "\n",
    "The dataset must contain the following columns and name convention:\n",
    "    0. UserName (int)\n",
    "    1. pos_count (int)\n",
    "    2. neg_count (int)\n",
    "    3. extremely_pos_count (int)\n",
    "    4. extremely_neg_count (int)\n",
    "\n",
    "EXAMPLE SOLUTION:\n",
    "\n",
    "\n",
    "   UserName  pos_count  neg_count  extremely_pos_count  extremely_neg_count\n",
    "0     14675          1          7                    1                    0\n",
    "1     12457          1          5                    0                    0\n",
    "...\n",
    "9     14405          0          4                    0                    1"
   ]
  },
  {
   "cell_type": "code",
   "execution_count": null,
   "metadata": {},
   "outputs": [],
   "source": [
    "# write query inside docstring\n",
    "query_2 = \"\"\"\n",
    "\n",
    "\"\"\""
   ]
  },
  {
   "cell_type": "code",
   "execution_count": null,
   "metadata": {},
   "outputs": [],
   "source": [
    "result_2 = execute_query(query_2)"
   ]
  },
  {
   "cell_type": "code",
   "execution_count": null,
   "metadata": {},
   "outputs": [],
   "source": [
    "result_2"
   ]
  },
  {
   "cell_type": "markdown",
   "metadata": {},
   "source": [
    "## Question 3: Medium SQL"
   ]
  },
  {
   "cell_type": "raw",
   "metadata": {},
   "source": [
    "The sales department asks you to plot the positive sentiment rate in time\n",
    "\n",
    "The positive sentiment rate is defined as: \n",
    "\n",
    "    (count of positives + count of extremely positives) / [(count of negatives + count of extremely negatives) + (count of positives + count of extremely positives)]\n",
    "\n",
    "requirement:\n",
    "\n",
    "1. positive rate column most be named pos_rate\n",
    "\n",
    "\n",
    "\n",
    "EXAMPLE SOLUTION:\n",
    "\n",
    "\n",
    "\ttweetAt\t    pos_rate\n",
    "0\t18-03-2020\t1.000000\n",
    "1\t21-03-2020\t1.000000\n",
    "...\n",
    "4\t18-03-2020\t0.777778"
   ]
  },
  {
   "cell_type": "code",
   "execution_count": null,
   "metadata": {},
   "outputs": [],
   "source": [
    "query_3 = \"\"\"\n",
    "\n",
    "\"\"\""
   ]
  },
  {
   "cell_type": "code",
   "execution_count": null,
   "metadata": {},
   "outputs": [],
   "source": [
    "# write query inside docstring\n",
    "query_3 = \"\"\"\n",
    "\n",
    "\"\"\""
   ]
  },
  {
   "cell_type": "code",
   "execution_count": null,
   "metadata": {},
   "outputs": [],
   "source": [
    "result_3 = execute_query(query_3)"
   ]
  },
  {
   "cell_type": "code",
   "execution_count": null,
   "metadata": {},
   "outputs": [],
   "source": [
    "result_3"
   ]
  },
  {
   "cell_type": "markdown",
   "metadata": {},
   "source": [
    "## Question 4: SQL + pandas + plotting"
   ]
  },
  {
   "cell_type": "raw",
   "metadata": {},
   "source": [
    "You are tasked to deliver a simple plot a time series of the answer of Question 3\n",
    "\n",
    "Requirements:\n",
    "    1. the proceedure most take the result_3 variable as input and return nothing\n",
    "    2. the plot most be resampled by day aggregated by the mean\n",
    "    3. no other library like matplotlib can be used only pandas plot interface pd.Series.plot()\n",
    "    4. the date column from result_3 most be parsed into datetime format using pandas built in method.\n",
    "    5. the proceedure must not transform or modify the original result_3 variable"
   ]
  },
  {
   "cell_type": "markdown",
   "metadata": {},
   "source": [
    "<p>Expected result:</p>\n",
    "<img src=\"data/plot_result.png\">"
   ]
  },
  {
   "cell_type": "code",
   "execution_count": null,
   "metadata": {},
   "outputs": [],
   "source": [
    "def plot(df : pd.DataFrame):\n",
    "    #TODO: YOUR CODE GOES HERE\n",
    "    \n",
    "    "
   ]
  },
  {
   "cell_type": "code",
   "execution_count": null,
   "metadata": {},
   "outputs": [],
   "source": [
    "plot(result_3)"
   ]
  },
  {
   "cell_type": "markdown",
   "metadata": {},
   "source": [
    "# PART 2: Object Oriented Programming + Data Wrangling"
   ]
  },
  {
   "cell_type": "markdown",
   "metadata": {},
   "source": [
    "## Question 5"
   ]
  },
  {
   "cell_type": "raw",
   "metadata": {},
   "source": [
    "You are tasked to build a csv data reader from scratch.\n",
    "As a major constraint you cannot use any third party library like pandas or another csv reader. \n",
    "***Only built in standard python libraries are allowed.***\n",
    "\n",
    "\n",
    "The problem is that the csv data provided has many mistakes and the user requires to keep the amount of data possible.\n",
    "The user does not wants to drop rows or columns with mistakes but may replace mistakes with \"NaN\" values\n",
    "\n",
    "REQUIREMENTS:\n",
    "\n",
    "I. the csv must be contained inside a class named Data and it must have:\n",
    "    1. must persist the loaded csv data in a local parameter called data\n",
    "    2. infer_dtypes(data_object: object) : to infer the data types of each column distinguishing between (date, integer, or float)\n",
    "    3. describe() method that returns basic statistics of each numerical column including mean, standard deviation, maximum value, minimum value.\n",
    "II. You most build a class called DataReader with the following required methods:\n",
    "    1. read_csv(file_path : Str) : to load the raw csv file and return a Data class\n",
    "\n",
    "\n",
    "You can assume:\n",
    "    1. all columns have different errors at different rows\n",
    "    2. you can delete rows ONLY if necesary and you need to comment why\n",
    "    3. the more rows you drop the less points you will obtain\n",
    "\n",
    "\n",
    "If it is not specified in this instructions you are free to assume but explain your assumptions.\n",
    "Use best practices and comment your code as best as possible.\n"
   ]
  },
  {
   "cell_type": "raw",
   "metadata": {},
   "source": [
    "# example template for class\n",
    "\n",
    "class Data:\n",
    "    def __init__(self):\n",
    "        # CODE GOES HERE\n",
    "\n",
    "\n",
    "\n",
    "    def infer_dtypes(self) -> dict:\n",
    "        # CODE GOES HERE\n",
    "\n",
    "        return \n",
    "\n",
    "    def describe(self) -> dict:\n",
    "        # CODE GOES HERE \n",
    "\n",
    "        return\n",
    "\n"
   ]
  }
 ],
 "metadata": {
  "interpreter": {
   "hash": "d188dfcbde1e480b71c66e69b52162f1721e9379a92df673941419cd9e5e1b3f"
  },
  "kernelspec": {
   "display_name": "Python 3",
   "language": "python",
   "name": "python3"
  },
  "language_info": {
   "codemirror_mode": {
    "name": "ipython",
    "version": 3
   },
   "file_extension": ".py",
   "mimetype": "text/x-python",
   "name": "python",
   "nbconvert_exporter": "python",
   "pygments_lexer": "ipython3",
   "version": "3.9.13"
  }
 },
 "nbformat": 4,
 "nbformat_minor": 2
}
